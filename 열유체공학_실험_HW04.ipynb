{
  "nbformat": 4,
  "nbformat_minor": 0,
  "metadata": {
    "kernelspec": {
      "display_name": "Python 3",
      "language": "python",
      "name": "python3"
    },
    "language_info": {
      "codemirror_mode": {
        "name": "ipython",
        "version": 3
      },
      "file_extension": ".py",
      "mimetype": "text/x-python",
      "name": "python",
      "nbconvert_exporter": "python",
      "pygments_lexer": "ipython3",
      "version": "3.7.3"
    },
    "colab": {
      "name": "열유체공학 실험 HW04",
      "provenance": [],
      "collapsed_sections": [],
      "include_colab_link": true
    }
  },
  "cells": [
    {
      "cell_type": "markdown",
      "metadata": {
        "id": "view-in-github",
        "colab_type": "text"
      },
      "source": [
        "<a href=\"https://colab.research.google.com/github/kangsukkyu/fluid/blob/master/%EC%97%B4%EC%9C%A0%EC%B2%B4%EA%B3%B5%ED%95%99_%EC%8B%A4%ED%97%98_HW04.ipynb\" target=\"_parent\"><img src=\"https://colab.research.google.com/assets/colab-badge.svg\" alt=\"Open In Colab\"/></a>"
      ]
    },
    {
      "cell_type": "markdown",
      "metadata": {
        "id": "GcNqlRv-r_9-",
        "colab_type": "text"
      },
      "source": [
        "1. python을 활용하여 구구단 (기본 문법)\n",
        "2. Python 기본 문법을 사용한 방법, <br>\n",
        "   numpy를 사용한 방법, <br>\n",
        "   numba.jit을 사용한 방법, <br>\n",
        "   cuda를 사용한 방법 넷을 전부 활용하여 결과를 비교하시오."
      ]
    },
    {
      "cell_type": "code",
      "metadata": {
        "id": "x5Naw3LIr_-B",
        "colab_type": "code",
        "colab": {}
      },
      "source": [
        "import numpy as np\n",
        "from numba import jit\n",
        "from numba import cuda\n",
        "import pprint\n",
        "import time\n",
        "import matplotlib.pyplot as plt\n",
        "%matplotlib inline"
      ],
      "execution_count": 0,
      "outputs": []
    },
    {
      "cell_type": "markdown",
      "metadata": {
        "id": "AaNbgnqdr_-K",
        "colab_type": "text"
      },
      "source": [
        "# 일반 파이썬 버전 구구단"
      ]
    },
    {
      "cell_type": "code",
      "metadata": {
        "id": "kUFhUnGnr_-N",
        "colab_type": "code",
        "colab": {}
      },
      "source": [
        "\n",
        "a=[[0 for i in range(10)]for j in range(10)]\n",
        "def gugudan_basic(x,y):\n",
        "    for i in range(x,y+1):\n",
        "        for j in range(x,y+1):\n",
        "            a[j][i]=(j+1)*(i+1)\n",
        "            a[j][i]=float(a[j][i])\n",
        "    return a\n",
        "\n",
        "\n",
        "        "
      ],
      "execution_count": 0,
      "outputs": []
    },
    {
      "cell_type": "code",
      "metadata": {
        "id": "fVaRFcPgr_-R",
        "colab_type": "code",
        "outputId": "da13cecd-9496-4fa4-880f-53808f8844ed",
        "colab": {}
      },
      "source": [
        "t1=time.time()\n",
        "pprint.pprint(gugudan_basic(0,9))\n",
        "t2=time.time()\n",
        "basic_time=t2-t1\n",
        "print(basic_time)"
      ],
      "execution_count": 0,
      "outputs": [
        {
          "output_type": "stream",
          "text": [
            "[[1.0, 2.0, 3.0, 4.0, 5.0, 6.0, 7.0, 8.0, 9.0, 10.0],\n",
            " [2.0, 4.0, 6.0, 8.0, 10.0, 12.0, 14.0, 16.0, 18.0, 20.0],\n",
            " [3.0, 6.0, 9.0, 12.0, 15.0, 18.0, 21.0, 24.0, 27.0, 30.0],\n",
            " [4.0, 8.0, 12.0, 16.0, 20.0, 24.0, 28.0, 32.0, 36.0, 40.0],\n",
            " [5.0, 10.0, 15.0, 20.0, 25.0, 30.0, 35.0, 40.0, 45.0, 50.0],\n",
            " [6.0, 12.0, 18.0, 24.0, 30.0, 36.0, 42.0, 48.0, 54.0, 60.0],\n",
            " [7.0, 14.0, 21.0, 28.0, 35.0, 42.0, 49.0, 56.0, 63.0, 70.0],\n",
            " [8.0, 16.0, 24.0, 32.0, 40.0, 48.0, 56.0, 64.0, 72.0, 80.0],\n",
            " [9.0, 18.0, 27.0, 36.0, 45.0, 54.0, 63.0, 72.0, 81.0, 90.0],\n",
            " [10.0, 20.0, 30.0, 40.0, 50.0, 60.0, 70.0, 80.0, 90.0, 100.0]]\n",
            "0.001987934112548828\n"
          ],
          "name": "stdout"
        }
      ]
    },
    {
      "cell_type": "markdown",
      "metadata": {
        "id": "iwpHUdf-r_-Z",
        "colab_type": "text"
      },
      "source": [
        "# Numpy"
      ]
    },
    {
      "cell_type": "code",
      "metadata": {
        "id": "gC6ff_-nr_-a",
        "colab_type": "code",
        "colab": {}
      },
      "source": [
        "a_numpy_list=np.ones(100).reshape(10,10)\n",
        "\n",
        "def gugudan_numpy(x,y):\n",
        "    for i in range(x,y+1):\n",
        "        for j in range(x,y+1):\n",
        "            a_numpy_list[j][i]=(j+1)*(i+1)\n",
        "            \n",
        "    return a_numpy_list\n",
        "\n"
      ],
      "execution_count": 0,
      "outputs": []
    },
    {
      "cell_type": "code",
      "metadata": {
        "id": "te0hc-BSr_-d",
        "colab_type": "code",
        "outputId": "cf26bb57-8e33-488c-cda7-a5d4feb1c3cf",
        "colab": {}
      },
      "source": [
        "t1_numpy=time.time()\n",
        "\n",
        "print(gugudan_numpy(0,9))\n",
        "t2_numpy=time.time()\n",
        "time_numpy=t2_numpy-t1_numpy\n",
        "print(time_numpy)"
      ],
      "execution_count": 0,
      "outputs": [
        {
          "output_type": "stream",
          "text": [
            "[[  1.   2.   3.   4.   5.   6.   7.   8.   9.  10.]\n",
            " [  2.   4.   6.   8.  10.  12.  14.  16.  18.  20.]\n",
            " [  3.   6.   9.  12.  15.  18.  21.  24.  27.  30.]\n",
            " [  4.   8.  12.  16.  20.  24.  28.  32.  36.  40.]\n",
            " [  5.  10.  15.  20.  25.  30.  35.  40.  45.  50.]\n",
            " [  6.  12.  18.  24.  30.  36.  42.  48.  54.  60.]\n",
            " [  7.  14.  21.  28.  35.  42.  49.  56.  63.  70.]\n",
            " [  8.  16.  24.  32.  40.  48.  56.  64.  72.  80.]\n",
            " [  9.  18.  27.  36.  45.  54.  63.  72.  81.  90.]\n",
            " [ 10.  20.  30.  40.  50.  60.  70.  80.  90. 100.]]\n",
            "0.003972530364990234\n"
          ],
          "name": "stdout"
        }
      ]
    },
    {
      "cell_type": "markdown",
      "metadata": {
        "id": "RJ9UhIS3r_-g",
        "colab_type": "text"
      },
      "source": [
        "# Numba"
      ]
    },
    {
      "cell_type": "code",
      "metadata": {
        "id": "qcsZSeRQr_-h",
        "colab_type": "code",
        "colab": {}
      },
      "source": [
        "\n",
        "a_numba=[[0 for i in range(10)]for j in range(10)]\n",
        "\n",
        "@jit()\n",
        "def gugudan_basic_numba(x,y):\n",
        "    for i in range(x,y+1):\n",
        "        for j in range(x,y+1):\n",
        "            a_numba[j][i]=(j+1)*(i+1)\n",
        "    return a_numba\n",
        "\n"
      ],
      "execution_count": 0,
      "outputs": []
    },
    {
      "cell_type": "code",
      "metadata": {
        "id": "pPjVVi5kr_-m",
        "colab_type": "code",
        "outputId": "b13a4b7b-aa6d-4edf-d3c7-b199ab776ab9",
        "colab": {}
      },
      "source": [
        "t1_numba=time.time()\n",
        "\n",
        "pprint.pprint(gugudan_basic_numba(1,9))\n",
        "\n",
        "t2_numba=time.time()\n",
        "\n",
        "time_numba=t2_numba- t1_numba\n",
        "print(time_numba)"
      ],
      "execution_count": 0,
      "outputs": [
        {
          "output_type": "stream",
          "text": [
            "[[0, 0, 0, 0, 0, 0, 0, 0, 0, 0],\n",
            " [0, 4, 6, 8, 10, 12, 14, 16, 18, 20],\n",
            " [0, 6, 9, 12, 15, 18, 21, 24, 27, 30],\n",
            " [0, 8, 12, 16, 20, 24, 28, 32, 36, 40],\n",
            " [0, 10, 15, 20, 25, 30, 35, 40, 45, 50],\n",
            " [0, 12, 18, 24, 30, 36, 42, 48, 54, 60],\n",
            " [0, 14, 21, 28, 35, 42, 49, 56, 63, 70],\n",
            " [0, 16, 24, 32, 40, 48, 56, 64, 72, 80],\n",
            " [0, 18, 27, 36, 45, 54, 63, 72, 81, 90],\n",
            " [0, 20, 30, 40, 50, 60, 70, 80, 90, 100]]\n",
            "0.0009953975677490234\n"
          ],
          "name": "stdout"
        }
      ]
    },
    {
      "cell_type": "markdown",
      "metadata": {
        "id": "Mdn3Qeybr_-r",
        "colab_type": "text"
      },
      "source": [
        "# CUDA"
      ]
    },
    {
      "cell_type": "code",
      "metadata": {
        "id": "Xc_cfgver_-s",
        "colab_type": "code",
        "colab": {}
      },
      "source": [
        "a_cuda=[[0 for i in range(10)]for j in range(10)]\n",
        "\n",
        "@cuda.jit()\n",
        "def gugudan_basic_cuda(x,y):\n",
        "    for i in range(x,y+1):\n",
        "        for j in range(x,y+1):\n",
        "            a_cuda[j][i]=(j+1)*(i+1)\n",
        "    return a_cuda\n"
      ],
      "execution_count": 0,
      "outputs": []
    },
    {
      "cell_type": "code",
      "metadata": {
        "id": "_0G18qkhr_-v",
        "colab_type": "code",
        "outputId": "7f2714b8-67a1-4c04-cbdd-addf0ee89d01",
        "colab": {}
      },
      "source": [
        "t1_cuda=time.time()\n",
        "\n",
        "pprint.pprint(gugudan_basic_cuda(1,9))\n",
        "t2_cuda=time.time()\n",
        "time_cuda=t2_cuda - t1_cuda\n",
        "\n",
        "print(time_cuda)"
      ],
      "execution_count": 0,
      "outputs": [
        {
          "output_type": "stream",
          "text": [
            "[[0, 0, 0, 0, 0, 0, 0, 0, 0, 0],\n",
            " [0, 4, 6, 8, 10, 12, 14, 16, 18, 20],\n",
            " [0, 6, 9, 12, 15, 18, 21, 24, 27, 30],\n",
            " [0, 8, 12, 16, 20, 24, 28, 32, 36, 40],\n",
            " [0, 10, 15, 20, 25, 30, 35, 40, 45, 50],\n",
            " [0, 12, 18, 24, 30, 36, 42, 48, 54, 60],\n",
            " [0, 14, 21, 28, 35, 42, 49, 56, 63, 70],\n",
            " [0, 16, 24, 32, 40, 48, 56, 64, 72, 80],\n",
            " [0, 18, 27, 36, 45, 54, 63, 72, 81, 90],\n",
            " [0, 20, 30, 40, 50, 60, 70, 80, 90, 100]]\n",
            "0.0009949207305908203\n"
          ],
          "name": "stdout"
        }
      ]
    },
    {
      "cell_type": "markdown",
      "metadata": {
        "id": "FVJHeta0r_-y",
        "colab_type": "text"
      },
      "source": [
        "# 시간 비교\n",
        "\n"
      ]
    },
    {
      "cell_type": "code",
      "metadata": {
        "id": "ATBbVfFfr_-z",
        "colab_type": "code",
        "outputId": "2693645d-189c-4425-8554-64ecef0c10e0",
        "colab": {}
      },
      "source": [
        "print(\"일반  :\" ,basic_time)\n",
        "print(\"numpy :\" , time_numpy)\n",
        "print(\"numba :\" , time_numba)\n",
        "print(\"cuda  :\", time_cuda)\n"
      ],
      "execution_count": 0,
      "outputs": [
        {
          "output_type": "stream",
          "text": [
            "일반  : 0.001987934112548828\n",
            "numpy : 0.003972530364990234\n",
            "numba : 0.0009953975677490234\n",
            "cuda  : 0.0009949207305908203\n"
          ],
          "name": "stdout"
        }
      ]
    },
    {
      "cell_type": "code",
      "metadata": {
        "id": "exEjRGZWr_-3",
        "colab_type": "code",
        "outputId": "a9ad281d-928a-40e8-c095-7bc9482b7a6b",
        "colab": {}
      },
      "source": [
        "import pandas as pd\n",
        "a=[basic_time,time_numpy,time_numba,time_cuda]\n",
        "a.sort()\n",
        "\n",
        "df=pd.DataFrame(data=a ,index=[\"cuda\",\"numba\",\"basic\",\"numpy\"])\n",
        "df.head()"
      ],
      "execution_count": 0,
      "outputs": [
        {
          "output_type": "execute_result",
          "data": {
            "text/html": [
              "<div>\n",
              "<style scoped>\n",
              "    .dataframe tbody tr th:only-of-type {\n",
              "        vertical-align: middle;\n",
              "    }\n",
              "\n",
              "    .dataframe tbody tr th {\n",
              "        vertical-align: top;\n",
              "    }\n",
              "\n",
              "    .dataframe thead th {\n",
              "        text-align: right;\n",
              "    }\n",
              "</style>\n",
              "<table border=\"1\" class=\"dataframe\">\n",
              "  <thead>\n",
              "    <tr style=\"text-align: right;\">\n",
              "      <th></th>\n",
              "      <th>0</th>\n",
              "    </tr>\n",
              "  </thead>\n",
              "  <tbody>\n",
              "    <tr>\n",
              "      <th>cuda</th>\n",
              "      <td>0.000995</td>\n",
              "    </tr>\n",
              "    <tr>\n",
              "      <th>numba</th>\n",
              "      <td>0.000995</td>\n",
              "    </tr>\n",
              "    <tr>\n",
              "      <th>basic</th>\n",
              "      <td>0.001988</td>\n",
              "    </tr>\n",
              "    <tr>\n",
              "      <th>numpy</th>\n",
              "      <td>0.003973</td>\n",
              "    </tr>\n",
              "  </tbody>\n",
              "</table>\n",
              "</div>"
            ],
            "text/plain": [
              "              0\n",
              "cuda   0.000995\n",
              "numba  0.000995\n",
              "basic  0.001988\n",
              "numpy  0.003973"
            ]
          },
          "metadata": {
            "tags": []
          },
          "execution_count": 301
        }
      ]
    },
    {
      "cell_type": "code",
      "metadata": {
        "id": "DkCPridNr_-6",
        "colab_type": "code",
        "outputId": "4232997c-ee2c-495b-ad17-bd31e693e0f6",
        "colab": {}
      },
      "source": [
        "df.plot(kind='line',fontsize=14)"
      ],
      "execution_count": 0,
      "outputs": [
        {
          "output_type": "execute_result",
          "data": {
            "text/plain": [
              "<matplotlib.axes._subplots.AxesSubplot at 0xedf7970>"
            ]
          },
          "metadata": {
            "tags": []
          },
          "execution_count": 302
        },
        {
          "output_type": "display_data",
          "data": {
            "image/png": "[encoded data removed]",
            "text/plain": [
              "<Figure size 432x288 with 1 Axes>"
            ]
          },
          "metadata": {
            "tags": [],
            "needs_background": "light"
          }
        }
      ]
    },
    {
      "cell_type": "code",
      "metadata": {
        "id": "UTVaKScBr_-9",
        "colab_type": "code",
        "colab": {}
      },
      "source": [
        ""
      ],
      "execution_count": 0,
      "outputs": []
    }
  ]
}