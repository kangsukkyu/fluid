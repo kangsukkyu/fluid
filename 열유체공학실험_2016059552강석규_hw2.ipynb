{
  "nbformat": 4,
  "nbformat_minor": 0,
  "metadata": {
    "colab": {
      "name": "열유체공학실험-2016059552강석규-hw2",
      "version": "0.3.2",
      "provenance": [],
      "include_colab_link": true
    },
    "kernelspec": {
      "name": "python3",
      "display_name": "Python 3"
    }
  },
  "cells": [
    {
      "cell_type": "markdown",
      "metadata": {
        "id": "view-in-github",
        "colab_type": "text"
      },
      "source": [
        "<a href=\"https://colab.research.google.com/github/kangsukkyu/fluid/blob/master/%EC%97%B4%EC%9C%A0%EC%B2%B4%EA%B3%B5%ED%95%99%EC%8B%A4%ED%97%98_2016059552%EA%B0%95%EC%84%9D%EA%B7%9C_hw2.ipynb\" target=\"_parent\"><img src=\"https://colab.research.google.com/assets/colab-badge.svg\" alt=\"Open In Colab\"/></a>"
      ]
    },
    {
      "cell_type": "code",
      "metadata": {
        "id": "czGGkrb1sVSd",
        "colab_type": "code",
        "colab": {}
      },
      "source": [
        " num1 = int(input(\"숫자를 입력하시오\"))\n",
        "        \n",
        " for i in range(1,10):\n",
        "        \n",
        "         print (num1, \"X\", i, \"=\", num1*i)"
      ],
      "execution_count": 0,
      "outputs": []
    }
  ]
}