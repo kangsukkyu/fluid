{
  "nbformat": 4,
  "nbformat_minor": 0,
  "metadata": {
    "colab": {
      "name": "Untitled4.ipynb",
      "version": "0.3.2",
      "provenance": [],
      "include_colab_link": true
    },
    "kernelspec": {
      "name": "python3",
      "display_name": "Python 3"
    }
  },
  "cells": [
    {
      "cell_type": "markdown",
      "metadata": {
        "id": "view-in-github",
        "colab_type": "text"
      },
      "source": [
        "<a href=\"https://colab.research.google.com/github/kangsukkyu/fluid/blob/master/Untitled4.ipynb\" target=\"_parent\"><img src=\"https://colab.research.google.com/assets/colab-badge.svg\" alt=\"Open In Colab\"/></a>"
      ]
    },
    {
      "cell_type": "code",
      "metadata": {
        "id": "czGGkrb1sVSd",
        "colab_type": "code",
        "colab": {}
      },
      "source": [
        " num1 = int(input(\"숫자를 입력하시오\"))\n",
        "        \n",
        " for i in range(1,10):\n",
        "        \n",
        "         print (num1, \"X\", i, \"=\", num1*i)"
      ],
      "execution_count": 0,
      "outputs": []
    }
  ]
}