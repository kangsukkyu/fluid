{
  "nbformat": 4,
  "nbformat_minor": 0,
  "metadata": {
    "kernelspec": {
      "display_name": "Python 3",
      "language": "python",
      "name": "python3"
    },
    "language_info": {
      "codemirror_mode": {
        "name": "ipython",
        "version": 3
      },
      "file_extension": ".py",
      "mimetype": "text/x-python",
      "name": "python",
      "nbconvert_exporter": "python",
      "pygments_lexer": "ipython3",
      "version": "3.7.3"
    },
    "colab": {
      "name": "열유체공학실험1-2016059552강석규-HW06",
      "provenance": [],
      "include_colab_link": true
    }
  },
  "cells": [
    {
      "cell_type": "markdown",
      "metadata": {
        "id": "view-in-github",
        "colab_type": "text"
      },
      "source": [
        "<a href=\"https://colab.research.google.com/github/kangsukkyu/fluid/blob/master/%EC%97%B4%EC%9C%A0%EC%B2%B4%EA%B3%B5%ED%95%99%EC%8B%A4%ED%97%981_2016059552%EA%B0%95%EC%84%9D%EA%B7%9C_HW06.ipynb\" target=\"_parent\"><img src=\"https://colab.research.google.com/assets/colab-badge.svg\" alt=\"Open In Colab\"/></a>"
      ]
    },
    {
      "cell_type": "markdown",
      "metadata": {
        "id": "5tdZrf2zKRCs",
        "colab_type": "text"
      },
      "source": [
        "# homework_6\n"
      ]
    },
    {
      "cell_type": "markdown",
      "metadata": {
        "id": "hJa0sJKPKRCu",
        "colab_type": "text"
      },
      "source": [
        "# 과제\n",
        "\n",
        "6번\n",
        "파일 - 새 Python3 노트를 통해 새 노트북을 만드시오.\n",
        "아래 작성된 코드 셀을 복사한 후 ## FIXME ## 부분을 수정하여 감쇠진동 상미분방정식의 그래프를 plot하시오.\n",
        "감쇠진동 상미분방정식\n",
        "$$\n",
        "4x'' + 1x' + 4x = 0\n",
        "$$$$\n",
        "x(0) = 0\n",
        "$$$$\n",
        "x'(0) = 0\n",
        "$$\n",
        "위와 같을 떄 t = 0부터 t = 20까지의 위치를 그래프로 그리시오."
      ]
    },
    {
      "cell_type": "code",
      "metadata": {
        "id": "qE6bItHbKRCw",
        "colab_type": "code",
        "colab": {}
      },
      "source": [
        "from scipy.integrate import solve_ivp"
      ],
      "execution_count": 0,
      "outputs": []
    },
    {
      "cell_type": "code",
      "metadata": {
        "id": "viE_KeKeKRC1",
        "colab_type": "code",
        "colab": {},
        "outputId": "f7855963-9e20-4085-aeed-619c7c4475e9"
      },
      "source": [
        "def dXdt( t, X ) : # X[0]= x(t) , X[1]=v(t)                              \n",
        "    return  X[1], -X[0]-(X[1]/4) # x'(t),v'(t)\n",
        "\n",
        "# 초기값\n",
        "X0 = ( 10, 0 ) \n",
        "\n",
        "t0 = 0\n",
        "tend = 20\n",
        "\n",
        "sol = solve_ivp( dXdt, (t0, tend), X0, t_eval=np.linspace(t0,tend,101) )\n",
        "plt.plot( sol.t, sol.y[0] )\n",
        "plt.xlabel('t')\n",
        "plt.ylabel('y')\n",
        "plt.show()"
      ],
      "execution_count": 0,
      "outputs": [
        {
          "output_type": "display_data",
          "data": {
            "image/png": "[encoded data removed]",
            "text/plain": [
              "<Figure size 432x288 with 1 Axes>"
            ]
          },
          "metadata": {
            "tags": [],
            "needs_background": "light"
          }
        }
      ]
    },
    {
      "cell_type": "code",
      "metadata": {
        "id": "-0jyf-sHKRC7",
        "colab_type": "code",
        "colab": {}
      },
      "source": [
        ""
      ],
      "execution_count": 0,
      "outputs": []
    }
  ]
}